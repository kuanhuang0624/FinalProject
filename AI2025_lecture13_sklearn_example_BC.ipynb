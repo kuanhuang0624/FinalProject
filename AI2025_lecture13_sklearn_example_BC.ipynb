{
  "nbformat": 4,
  "nbformat_minor": 0,
  "metadata": {
    "colab": {
      "provenance": []
    },
    "kernelspec": {
      "name": "python3",
      "display_name": "Python 3"
    },
    "language_info": {
      "name": "python"
    }
  },
  "cells": [
    {
      "cell_type": "markdown",
      "source": [
        "# Lecture 13: Machine Learning and Sklearn example\n",
        "\n",
        "1. Load image data\n",
        "2. Decision tree and evaluation\n",
        "3. Random forest and evaluation"
      ],
      "metadata": {
        "id": "61Q8NYhkqi7j"
      }
    },
    {
      "cell_type": "markdown",
      "source": [
        "## Load image data\n",
        "\n",
        "Dataset: https://drive.google.com/drive/folders/1ovgQcx_SgotKmFA8rgK3ZTQeI_haijUK?usp=sharing\n",
        "\n",
        "Tasks: Open image files and load the labels"
      ],
      "metadata": {
        "id": "yb_P2rB6q3pS"
      }
    },
    {
      "cell_type": "code",
      "execution_count": null,
      "metadata": {
        "id": "vRgOOiT8qYeg"
      },
      "outputs": [],
      "source": [
        "# Load image data\n",
        "from google.colab import drive\n",
        "drive.mount('/content/drive')"
      ]
    },
    {
      "cell_type": "code",
      "source": [],
      "metadata": {
        "id": "moBICm3IrOK5"
      },
      "execution_count": null,
      "outputs": []
    },
    {
      "cell_type": "markdown",
      "source": [
        "## Train Decision Tree and Evaluate the Decision Tree\n",
        "\n",
        "1. train_test_split\n",
        "2. DecisionTreeClassifier\n",
        "3. classification_report and confusion_matrix"
      ],
      "metadata": {
        "id": "5W8ofy8vs9Nn"
      }
    },
    {
      "cell_type": "code",
      "source": [
        "from sklearn.model_selection import train_test_split\n",
        "\n"
      ],
      "metadata": {
        "id": "NQOvkVAks1ix"
      },
      "execution_count": null,
      "outputs": []
    },
    {
      "cell_type": "code",
      "source": [
        "# Decision Tree\n",
        "# criterion: Splitting strategy (\"gini\" for Gini impurity, \"entropy\" for Information Gain).\n",
        "# max_depth: Limits tree depth to prevent overfitting.\n",
        "# random_state: Ensures reproducibility.\n",
        "from sklearn.tree import DecisionTreeClassifier\n",
        "\n"
      ],
      "metadata": {
        "id": "yPXmnZXHtRUE"
      },
      "execution_count": null,
      "outputs": []
    },
    {
      "cell_type": "code",
      "source": [
        "# Evaluation\n",
        "from sklearn.metrics import accuracy_score, precision_score, recall_score, f1_score, confusion_matrix\n"
      ],
      "metadata": {
        "id": "Ngx-dmigtt_O"
      },
      "execution_count": null,
      "outputs": []
    },
    {
      "cell_type": "markdown",
      "source": [
        "## Random Forest\n",
        "\n",
        "1. RandomForestClassifier"
      ],
      "metadata": {
        "id": "jGh4WGm9ur-6"
      }
    },
    {
      "cell_type": "code",
      "source": [
        "# Random Forest\n"
      ],
      "metadata": {
        "id": "w8xHzdsOuvu7"
      },
      "execution_count": null,
      "outputs": []
    }
  ]
}